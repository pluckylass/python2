{
 "cells": [
  {
   "cell_type": "markdown",
   "metadata": {},
   "source": [
    "# Identifying Patient Cohorts in [MIMIC-II](http://www.ncbi.nlm.nih.gov/pmc/articles/PMC3124312/)\n"
   ]
  },
  {
   "cell_type": "code",
   "execution_count": 1,
   "metadata": {
    "collapsed": true
   },
   "outputs": [],
   "source": [
    "%matplotlib inline"
   ]
  },
  {
   "cell_type": "code",
   "execution_count": 2,
   "metadata": {
    "collapsed": true
   },
   "outputs": [],
   "source": [
    "import pymysql\n",
    "import pandas as pd\n",
    "import getpass\n",
    "import pandas as pd\n",
    "import seaborn as sns\n",
    "import datetime\n",
    "import time\n",
    "import matplotlib.pyplot as plt"
   ]
  },
  {
   "cell_type": "code",
   "execution_count": 3,
   "metadata": {},
   "outputs": [
    {
     "name": "stdout",
     "output_type": "stream",
     "text": [
      "Enter MySQL passwd for jovyan········\n"
     ]
    }
   ],
   "source": [
    "conn = pymysql.connect(host=\"mysql\",\n",
    "                       port=3306,user=\"jovyan\",\n",
    "                       passwd=getpass.getpass(\"Enter MySQL passwd for jovyan\"),db='mimic2')\n",
    "cursor = conn.cursor()"
   ]
  },
  {
   "cell_type": "code",
   "execution_count": 4,
   "metadata": {},
   "outputs": [
    {
     "data": {
      "text/html": [
       "<div>\n",
       "<table border=\"1\" class=\"dataframe\">\n",
       "  <thead>\n",
       "    <tr style=\"text-align: right;\">\n",
       "      <th></th>\n",
       "      <th>hadm_id</th>\n",
       "      <th>subject_id</th>\n",
       "      <th>admit_dt</th>\n",
       "      <th>disch_dt</th>\n",
       "    </tr>\n",
       "  </thead>\n",
       "  <tbody>\n",
       "    <tr>\n",
       "      <th>0</th>\n",
       "      <td>28766</td>\n",
       "      <td>56</td>\n",
       "      <td>2644-01-17 00:00:00</td>\n",
       "      <td>2644-01-23 00:00:00</td>\n",
       "    </tr>\n",
       "    <tr>\n",
       "      <th>1</th>\n",
       "      <td>2075</td>\n",
       "      <td>3</td>\n",
       "      <td>2682-09-07 00:00:00</td>\n",
       "      <td>2682-09-18 00:00:00</td>\n",
       "    </tr>\n",
       "    <tr>\n",
       "      <th>2</th>\n",
       "      <td>20666</td>\n",
       "      <td>21</td>\n",
       "      <td>3138-10-29 00:00:00</td>\n",
       "      <td>3138-11-11 00:00:00</td>\n",
       "    </tr>\n",
       "    <tr>\n",
       "      <th>3</th>\n",
       "      <td>20882</td>\n",
       "      <td>21</td>\n",
       "      <td>3139-03-19 00:00:00</td>\n",
       "      <td>3139-03-28 00:00:00</td>\n",
       "    </tr>\n",
       "    <tr>\n",
       "      <th>4</th>\n",
       "      <td>12532</td>\n",
       "      <td>12</td>\n",
       "      <td>2875-09-26 00:00:00</td>\n",
       "      <td>2875-10-09 00:00:00</td>\n",
       "    </tr>\n",
       "  </tbody>\n",
       "</table>\n",
       "</div>"
      ],
      "text/plain": [
       "   hadm_id  subject_id             admit_dt             disch_dt\n",
       "0    28766          56  2644-01-17 00:00:00  2644-01-23 00:00:00\n",
       "1     2075           3  2682-09-07 00:00:00  2682-09-18 00:00:00\n",
       "2    20666          21  3138-10-29 00:00:00  3138-11-11 00:00:00\n",
       "3    20882          21  3139-03-19 00:00:00  3139-03-28 00:00:00\n",
       "4    12532          12  2875-09-26 00:00:00  2875-10-09 00:00:00"
      ]
     },
     "execution_count": 4,
     "metadata": {},
     "output_type": "execute_result"
    }
   ],
   "source": [
    "pd.read_sql(\"\"\"SELECT * FROM admissions LIMIT 50\"\"\", conn).head()"
   ]
  },
  {
   "cell_type": "markdown",
   "metadata": {},
   "source": [
    "## Exercise: Create a Histogram of the length of stay for subjects in the database"
   ]
  },
  {
   "cell_type": "code",
   "execution_count": 12,
   "metadata": {},
   "outputs": [
    {
     "name": "stdout",
     "output_type": "stream",
     "text": [
      "(5074, 4)\n"
     ]
    },
    {
     "data": {
      "text/html": [
       "<div>\n",
       "<table border=\"1\" class=\"dataframe\">\n",
       "  <thead>\n",
       "    <tr style=\"text-align: right;\">\n",
       "      <th></th>\n",
       "      <th>hadm_id</th>\n",
       "      <th>subject_id</th>\n",
       "      <th>admit_dt</th>\n",
       "      <th>disch_dt</th>\n",
       "      <th>LOS</th>\n",
       "      <th>LOS2</th>\n",
       "    </tr>\n",
       "  </thead>\n",
       "  <tbody>\n",
       "    <tr>\n",
       "      <th>0</th>\n",
       "      <td>28766</td>\n",
       "      <td>56</td>\n",
       "      <td>2644-01-17 00:00:00</td>\n",
       "      <td>2644-01-23 00:00:00</td>\n",
       "      <td>6 days</td>\n",
       "      <td>6</td>\n",
       "    </tr>\n",
       "    <tr>\n",
       "      <th>1</th>\n",
       "      <td>2075</td>\n",
       "      <td>3</td>\n",
       "      <td>2682-09-07 00:00:00</td>\n",
       "      <td>2682-09-18 00:00:00</td>\n",
       "      <td>11 days</td>\n",
       "      <td>11</td>\n",
       "    </tr>\n",
       "    <tr>\n",
       "      <th>2</th>\n",
       "      <td>20666</td>\n",
       "      <td>21</td>\n",
       "      <td>3138-10-29 00:00:00</td>\n",
       "      <td>3138-11-11 00:00:00</td>\n",
       "      <td>13 days</td>\n",
       "      <td>13</td>\n",
       "    </tr>\n",
       "    <tr>\n",
       "      <th>3</th>\n",
       "      <td>20882</td>\n",
       "      <td>21</td>\n",
       "      <td>3139-03-19 00:00:00</td>\n",
       "      <td>3139-03-28 00:00:00</td>\n",
       "      <td>9 days</td>\n",
       "      <td>9</td>\n",
       "    </tr>\n",
       "    <tr>\n",
       "      <th>4</th>\n",
       "      <td>12532</td>\n",
       "      <td>12</td>\n",
       "      <td>2875-09-26 00:00:00</td>\n",
       "      <td>2875-10-09 00:00:00</td>\n",
       "      <td>13 days</td>\n",
       "      <td>13</td>\n",
       "    </tr>\n",
       "  </tbody>\n",
       "</table>\n",
       "</div>"
      ],
      "text/plain": [
       "   hadm_id  subject_id             admit_dt             disch_dt     LOS  LOS2\n",
       "0    28766          56  2644-01-17 00:00:00  2644-01-23 00:00:00  6 days     6\n",
       "1     2075           3  2682-09-07 00:00:00  2682-09-18 00:00:00 11 days    11\n",
       "2    20666          21  3138-10-29 00:00:00  3138-11-11 00:00:00 13 days    13\n",
       "3    20882          21  3139-03-19 00:00:00  3139-03-28 00:00:00  9 days     9\n",
       "4    12532          12  2875-09-26 00:00:00  2875-10-09 00:00:00 13 days    13"
      ]
     },
     "execution_count": 12,
     "metadata": {},
     "output_type": "execute_result"
    }
   ],
   "source": [
    "hosps = \\\n",
    "pd.read_sql(\"\"\"SELECT * FROM admissions\"\"\", conn)\n",
    "print(hosps.shape)\n",
    "hosps[\"LOS\"] = hosps[\"disch_dt\"] - hosps[\"admit_dt\"]\n",
    "hosps[\"LOS2\"] = \\\n",
    "hosps.apply(lambda row: (row[\"disch_dt\"]-row[\"admit_dt\"]).total_seconds()/(24*3600), axis=1)\n",
    "hosps.head()"
   ]
  },
  {
   "cell_type": "code",
   "execution_count": 17,
   "metadata": {},
   "outputs": [
    {
     "data": {
      "text/plain": [
       "<matplotlib.axes._subplots.AxesSubplot at 0x7fdbc0f4af28>"
      ]
     },
     "execution_count": 17,
     "metadata": {},
     "output_type": "execute_result"
    },
    {
     "data": {
      "image/png": "[encoded data removed]",
      "text/plain": [
       "<matplotlib.figure.Figure at 0x7fdbc072b198>"
      ]
     },
     "metadata": {},
     "output_type": "display_data"
    }
   ],
   "source": [
    "hosps[\"LOS2\"].hist(bins=100)"
   ]
  },
  {
   "cell_type": "markdown",
   "metadata": {},
   "source": [
    "## Exercise: Create a histogram of the day of the week when patients are admitted"
   ]
  },
  {
   "cell_type": "code",
   "execution_count": 24,
   "metadata": {},
   "outputs": [
    {
     "data": {
      "text/plain": [
       "datetime.datetime(2644, 1, 17, 0, 0)"
      ]
     },
     "execution_count": 24,
     "metadata": {},
     "output_type": "execute_result"
    }
   ],
   "source": [
    "hosps[\"admit_dt\"][0]"
   ]
  },
  {
   "cell_type": "code",
   "execution_count": 26,
   "metadata": {},
   "outputs": [
    {
     "data": {
      "text/plain": [
       "<matplotlib.axes._subplots.AxesSubplot at 0x7fdbc10ca518>"
      ]
     },
     "execution_count": 26,
     "metadata": {},
     "output_type": "execute_result"
    },
    {
     "data": {
      "image/png": "[encoded data removed]",
      "text/plain": [
       "<matplotlib.figure.Figure at 0x7fdbc072b978>"
      ]
     },
     "metadata": {},
     "output_type": "display_data"
    }
   ],
   "source": [
    "admit1 = hosps[\"admit_dt\"][0]\n",
    "hosps[\"day of week\"] = hosps.apply(lambda r:r[\"admit_dt\"].weekday(), axis=1)\n",
    "hosps[\"day of week\"].plot.hist(bins=7)"
   ]
  },
  {
   "cell_type": "code",
   "execution_count": null,
   "metadata": {
    "collapsed": true
   },
   "outputs": [],
   "source": []
  }
 ],
 "metadata": {
  "kernelspec": {
   "display_name": "Python 3",
   "language": "python",
   "name": "python3"
  },
  "language_info": {
   "codemirror_mode": {
    "name": "ipython",
    "version": 3
   },
   "file_extension": ".py",
   "mimetype": "text/x-python",
   "name": "python",
   "nbconvert_exporter": "python",
   "pygments_lexer": "ipython3",
   "version": "3.5.2"
  }
 },
 "nbformat": 4,
 "nbformat_minor": 1
}
